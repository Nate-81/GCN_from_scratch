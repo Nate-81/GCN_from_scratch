{
 "cells": [
  {
   "cell_type": "code",
   "execution_count": 113,
   "id": "abf8f34e-4999-47b0-84b6-1b6c74987542",
   "metadata": {
    "ExecuteTime": {
     "end_time": "2024-03-23T15:46:59.026301Z",
     "start_time": "2024-03-23T15:46:58.999766Z"
    }
   },
   "outputs": [],
   "source": [
    "import numpy as np\n",
    "import networkx as nx\n",
    "import pandas as pd\n",
    "import matplotlib.pyplot as plt"
   ]
  },
  {
   "cell_type": "markdown",
   "source": [
    "# Useful Functions"
   ],
   "metadata": {
    "collapsed": false
   },
   "id": "b93631a956b8a441"
  },
  {
   "cell_type": "code",
   "outputs": [],
   "source": [
    "np.random.seed(100)"
   ],
   "metadata": {
    "collapsed": false,
    "ExecuteTime": {
     "end_time": "2024-03-23T15:46:59.073481Z",
     "start_time": "2024-03-23T15:46:59.066002Z"
    }
   },
   "id": "55af9c1b683aeeb4",
   "execution_count": 114
  },
  {
   "cell_type": "code",
   "outputs": [],
   "source": [
    "def draw_graph(G, colour_map, pos=None):\n",
    "    fig, ax = plt.subplots(figsize=(7, 7))\n",
    "    colour_map = np.where(colour_map==0, '#0af759', '#0284f5')\n",
    "    if pos is None:\n",
    "        nx.draw(G, node_color=colour_map, ax=ax, node_size=200)\n",
    "    else:\n",
    "        nx.draw(G, pos, node_color=colour_map, ax=ax, node_size=200)"
   ],
   "metadata": {
    "collapsed": false,
    "ExecuteTime": {
     "end_time": "2024-03-23T15:46:59.106137Z",
     "start_time": "2024-03-23T15:46:59.098741Z"
    }
   },
   "id": "3c5581905c39f55e",
   "execution_count": 115
  },
  {
   "cell_type": "markdown",
   "source": [
    "## Xavier Initialisation\n",
    "\n",
    "A method to initialise weights in a neural network. It generates it with the bounds (-std, std) on a matrix of size (n_in, n_out). This method is used to stop gradient exploding/vanishing issues. The Uniform Xavier Initialisation was chosen here with the general formula:\n",
    "$$x = \\sqrt {\\frac {6}{inputs\\,+\\,outputs}}$$  "
   ],
   "metadata": {
    "collapsed": false
   },
   "id": "81086e9d5e122150"
  },
  {
   "cell_type": "code",
   "outputs": [],
   "source": [
    "def xavier(n_out, n_in):\n",
    "    std = np.sqrt(6.0 / (n_in + n_out))\n",
    "    return np.random.uniform(-std, std, size=(n_out, n_in))"
   ],
   "metadata": {
    "collapsed": false,
    "ExecuteTime": {
     "end_time": "2024-03-23T15:46:59.120978Z",
     "start_time": "2024-03-23T15:46:59.115217Z"
    }
   },
   "id": "d3086bb752eb7aaf",
   "execution_count": 116
  },
  {
   "cell_type": "markdown",
   "source": [
    "## Cross-Entropy Loss Calculation\n",
    "Cross-Entropy Loss is a common technique used to calculate the loss in a classification problem. It is used to measure the performance of a classification model whose output is a probability value between 0 and 1. Cross-entropy loss increases as the predicted probability diverges from the actual label. Letting $y$ be the true label and $\\hat{y}$ be the predicted label, the formula is:\n",
    "$$L(y, \\hat{y}) = -\\sum_{i} y_i \\log(\\hat{y}_i)$$\n",
    "In this case we are using the loss for each $y$ and $\\hat{y}$ pair and then taking the mean of the losses later on."
   ],
   "metadata": {
    "collapsed": false
   },
   "id": "94b167bfc6137b96"
  },
  {
   "cell_type": "code",
   "outputs": [],
   "source": [
    "def loss_calc(pred, labels):\n",
    "    true_labels = np.argmax(labels, axis=1)\n",
    "    log_neg = -np.log(pred)\n",
    "    return log_neg[np.arange(pred.shape[0]), true_labels]"
   ],
   "metadata": {
    "collapsed": false,
    "ExecuteTime": {
     "end_time": "2024-03-23T15:46:59.137473Z",
     "start_time": "2024-03-23T15:46:59.132845Z"
    }
   },
   "id": "bcfc026bfdcba411",
   "execution_count": 117
  },
  {
   "cell_type": "markdown",
   "source": [
    "# DataSet - Zachary's Karate Club\n",
    "\n",
    "The Zachary's Karate Club is a social network of a university karate club, described in the paper \"An Information Flow Model for Conflict and Fission in Small Groups\" by Wayne W. Zachary. The network captures 34 members of a karate club, documenting links between pairs of members who interacted outside the club. The network is undirected ut weighted based on the interactions of the 34 members outside the karate club. The dataset is used to study the social interactions between the members and the eventual split of the club into two separate clubs."
   ],
   "metadata": {
    "collapsed": false
   },
   "id": "4ed1cecdc84a5908"
  },
  {
   "cell_type": "code",
   "outputs": [],
   "source": [
    "G = nx.karate_club_graph()"
   ],
   "metadata": {
    "collapsed": false,
    "ExecuteTime": {
     "end_time": "2024-03-23T15:46:59.145226Z",
     "start_time": "2024-03-23T15:46:59.140414Z"
    }
   },
   "id": "72333b88680a4bc4",
   "execution_count": 118
  },
  {
   "cell_type": "code",
   "outputs": [
    {
     "data": {
      "text/plain": "True"
     },
     "execution_count": 119,
     "metadata": {},
     "output_type": "execute_result"
    }
   ],
   "source": [
    "nx.is_weighted(G)"
   ],
   "metadata": {
    "collapsed": false,
    "ExecuteTime": {
     "end_time": "2024-03-23T15:46:59.161231Z",
     "start_time": "2024-03-23T15:46:59.155819Z"
    }
   },
   "id": "f9752e3a5e883fce",
   "execution_count": 119
  },
  {
   "cell_type": "code",
   "outputs": [
    {
     "data": {
      "text/plain": "(34, 78)"
     },
     "execution_count": 120,
     "metadata": {},
     "output_type": "execute_result"
    }
   ],
   "source": [
    "n_nodes = G.number_of_nodes()\n",
    "n_edges = G.number_of_edges()\n",
    "n_nodes, n_edges"
   ],
   "metadata": {
    "collapsed": false,
    "ExecuteTime": {
     "end_time": "2024-03-23T15:46:59.168036Z",
     "start_time": "2024-03-23T15:46:59.164604Z"
    }
   },
   "id": "4d6c768574a0e67c",
   "execution_count": 120
  },
  {
   "cell_type": "code",
   "outputs": [],
   "source": [
    "club_attribute = nx.get_node_attributes(G,'club')"
   ],
   "metadata": {
    "collapsed": false,
    "ExecuteTime": {
     "end_time": "2024-03-23T15:46:59.176322Z",
     "start_time": "2024-03-23T15:46:59.173246Z"
    }
   },
   "id": "e6a1975912963fd6",
   "execution_count": 121
  },
  {
   "cell_type": "code",
   "outputs": [],
   "source": [
    "colouring = pd.get_dummies(club_attribute, drop_first=True).astype(float).to_numpy().flatten()"
   ],
   "metadata": {
    "collapsed": false,
    "ExecuteTime": {
     "end_time": "2024-03-23T15:46:59.225497Z",
     "start_time": "2024-03-23T15:46:59.178209Z"
    }
   },
   "id": "1be0834c4097e3af",
   "execution_count": 122
  },
  {
   "cell_type": "code",
   "outputs": [],
   "source": [
    "n_labels = 2\n",
    "labels = np.eye(n_labels)[colouring.astype(int)]"
   ],
   "metadata": {
    "collapsed": false,
    "ExecuteTime": {
     "end_time": "2024-03-23T15:46:59.231950Z",
     "start_time": "2024-03-23T15:46:59.227478Z"
    }
   },
   "id": "20ec14df3a679ff",
   "execution_count": 123
  },
  {
   "cell_type": "code",
   "outputs": [
    {
     "name": "stdout",
     "output_type": "stream",
     "text": [
      "[0. 0. 0. 0. 0. 0. 0. 0. 0. 1. 0. 0. 0. 0. 1. 1. 0. 0. 1. 0. 1. 0. 1. 1.\n",
      " 1. 1. 1. 1. 1. 1. 1. 1. 1. 1.]\n"
     ]
    }
   ],
   "source": [
    "print(colouring)"
   ],
   "metadata": {
    "collapsed": false,
    "ExecuteTime": {
     "end_time": "2024-03-23T15:46:59.237838Z",
     "start_time": "2024-03-23T15:46:59.233105Z"
    }
   },
   "id": "1408bc05ede66bfb",
   "execution_count": 124
  },
  {
   "cell_type": "code",
   "outputs": [
    {
     "data": {
      "text/plain": "<Figure size 700x700 with 1 Axes>",
      "image/png": "[encoded data removed]"
     },
     "metadata": {},
     "output_type": "display_data"
    }
   ],
   "source": [
    "draw_graph(G, colouring)"
   ],
   "metadata": {
    "collapsed": false,
    "ExecuteTime": {
     "end_time": "2024-03-23T15:46:59.361611Z",
     "start_time": "2024-03-23T15:46:59.242660Z"
    }
   },
   "id": "907a785e4a81a005",
   "execution_count": 125
  },
  {
   "cell_type": "markdown",
   "source": [
    "# Adjacency Matrix\n",
    "\n",
    "The adjacency matrix A is just like how a normal adjacency matrix would be, however, the weight of the edge between nodes is represented by the value in the matrix. The diagonal is filled with a self connection of weight one since a GNN also performs message passing on itself. The adjacency matrix is used to represent the graph in a matrix form and is used to calculate the normalised adjacency matrix as described in the paper <a href=\"https://arxiv.org/pdf/1609.02907.pdf\">\"Semi-Supervised Classification with Graph Convolutional Networks\" by Thomas N. Kipf and Max Welling</a>"
   ],
   "metadata": {
    "collapsed": false
   },
   "id": "dc3e2a8ae16a8383"
  },
  {
   "cell_type": "code",
   "outputs": [],
   "source": [
    "A = nx.to_numpy_array(G)"
   ],
   "metadata": {
    "collapsed": false,
    "ExecuteTime": {
     "end_time": "2024-03-23T15:46:59.368084Z",
     "start_time": "2024-03-23T15:46:59.364318Z"
    }
   },
   "id": "cd3e987a5e541496",
   "execution_count": 126
  },
  {
   "cell_type": "code",
   "outputs": [],
   "source": [
    "# Adding self connections\n",
    "A_mod = A + np.eye(n_nodes)\n",
    "\n",
    "D_mod = np.zeros_like(A_mod)\n",
    "np.fill_diagonal(D_mod, np.asarray(A_mod.sum(axis=1)).flatten())\n",
    "\n",
    "D_mod_invroot = np.linalg.inv(np.sqrt(D_mod))\n",
    "A_hat = D_mod_invroot @ A_mod @ D_mod_invroot"
   ],
   "metadata": {
    "collapsed": false,
    "ExecuteTime": {
     "end_time": "2024-03-23T15:46:59.390578Z",
     "start_time": "2024-03-23T15:46:59.369438Z"
    }
   },
   "id": "d9e204f2a75fbfdc",
   "execution_count": 127
  },
  {
   "cell_type": "code",
   "outputs": [],
   "source": [
    "#Input features, Since we dont have any node features, just start with an identity matrix\n",
    "H = np.eye(n_nodes)"
   ],
   "metadata": {
    "collapsed": false,
    "ExecuteTime": {
     "end_time": "2024-03-23T15:46:59.398095Z",
     "start_time": "2024-03-23T15:46:59.394875Z"
    }
   },
   "id": "c0220f5089150d5",
   "execution_count": 128
  },
  {
   "cell_type": "markdown",
   "source": [
    "# Optimiser\n",
    "\n",
    "An object that keeps track of the learning rate and weight decay. It also keeps track of the output which is the gradient that has been passed on from a previous layer when doing back propagation, predicted labels and true labels. The update method is used to update the training nodes and the number of inputs."
   ],
   "metadata": {
    "collapsed": false
   },
   "id": "94214eda060a3165"
  },
  {
   "cell_type": "code",
   "outputs": [],
   "source": [
    "class Optimiser:\n",
    "    def __init__(self, learning_rate, weight_decay, train_nodes):\n",
    "        self.lr = learning_rate\n",
    "        self.wd = weight_decay\n",
    "        self.out = None\n",
    "        self.y_pred = None\n",
    "        self.y_true = None\n",
    "        self.out = None\n",
    "        self.train_nodes = train_nodes\n"
   ],
   "metadata": {
    "collapsed": false,
    "ExecuteTime": {
     "end_time": "2024-03-23T15:46:59.403361Z",
     "start_time": "2024-03-23T15:46:59.399643Z"
    }
   },
   "id": "6d530233fb75c330",
   "execution_count": 129
  },
  {
   "cell_type": "markdown",
   "source": [
    "# Graph Convolution Network Layer\n",
    "Represents one layer of the Graph Convolution Network. It has the number of input and output features, the weights, the activation function and the name of the layer. It is divided into 2 main parts, the forward propagation and the backward propagation."
   ],
   "metadata": {
    "collapsed": false
   },
   "id": "6bdc61235f87fec8"
  },
  {
   "cell_type": "markdown",
   "source": [
    "## Forward Propagation\n",
    "The paper by Kipf and Welling describes the forward propagation as:\n",
    "$$H^{(l+1)} = \\sigma(\\hat{A}H^{(l)}W^{(l)})$$\n",
    "Where $\\hat{A}$ is the normalised adjacency matrix, $H^{(l)}$ is the input feature matrix, $W^{(l)}$ is the weight matrix and $\\sigma$ is the activation function. The forward method takes in the normalised adjacency matrix and the previous layer's output and returns the current layer's output."
   ],
   "metadata": {
    "collapsed": false
   },
   "id": "90d2eaf00e73a27c"
  },
  {
   "cell_type": "markdown",
   "source": [
    "## Back Propagation\n",
    "Similar to the Softmax function but without the bias, the backpropagation process can be broken down into the following steps:  \n",
    "1. Compute the derivative of the activation function. In this case, the activation function is tanh, so its derivative is 1 - (output of activation function)^2.  \n",
    "\n",
    "2. Multiply the output gradient (passed from the next layer or the loss function) with the derivative of the activation function. This gives the gradient of the loss with respect to the layer's output before activation.  \n",
    "\n",
    "3. Compute the gradient of the loss with respect to the weights. This is done by multiplying the gradient of the loss with respect to the layer's output (calculated in step 2) with the layer's input (message passing matrix). This gives a matrix of the same shape as the weights.    \n",
    "\n",
    "4. Update the weights by subtracting the product of the learning rate and the gradient of the loss with respect to the weights (calculated in step 3)."
   ],
   "metadata": {
    "collapsed": false
   },
   "id": "7e0bbf3e4b87b4a5"
  },
  {
   "cell_type": "code",
   "outputs": [],
   "source": [
    "class GCNLayer:\n",
    "    def __init__(self, n_inputs, n_outputs, activation, name):\n",
    "        #Number of input/output features\n",
    "        self.n_inputs = n_inputs\n",
    "        self.n_outputs = n_outputs\n",
    "        # Initialising weights \n",
    "        self.weights = xavier(self.n_outputs, self.n_inputs)\n",
    "        # Activation function if needed, probably not gonna use it but ok\n",
    "        self.act_func = activation\n",
    "        # Convenient display\n",
    "        self.name = name\n",
    "        #Used Later\n",
    "        # Normalised Adjacency Matrix A\n",
    "        self.adjacency_m = None\n",
    "        # Matrix to represent th message passing stage A @ H\n",
    "        self.message_passing_m = None\n",
    "        # H \n",
    "        self.layer_output_m = None\n",
    "\n",
    "    #Forward propagation and message sharing among nodes\n",
    "    def forward(self, A, previous_layer_output, W=None):\n",
    "        # Using n as the number of nodes, f as the number of features, o as the number of outputs\n",
    "        self.adjacency_m = A  # (n, n) \n",
    "        self.message_passing_m = (self.adjacency_m @ previous_layer_output).T  # (n, n) @ (n, f) = (n, f).T = (f,n)\n",
    "        #Transposed to match multiplication with the weights.\n",
    "\n",
    "        if W is None:\n",
    "            W = self.weights\n",
    "\n",
    "        self.layer_output_m = W @ self.message_passing_m # (o, f) @ (f , n) = (o, n)\n",
    "        self.layer_output_m = self.act_func(self.layer_output_m)\n",
    "        return self.layer_output_m.T #(o, n).T = (n, o)\n",
    "\n",
    "    # Backwards propagation, correcting for loss.\n",
    "    def backward(self, optimiser: Optimiser):\n",
    "        # Step 1: Compute the derivative of the activation function\n",
    "        d_tanh = 1 - np.asarray(self.layer_output_m.T) ** 2\n",
    "    \n",
    "        # Step 2: Multiply the output gradient with the derivative of the activation function\n",
    "        d2 = np.multiply(d_tanh, optimiser.out)\n",
    "    \n",
    "        # Compute the gradient by multiplying the difference with weights\n",
    "        gradient = self.adjacency_m @ d2 @ self.weights\n",
    "    \n",
    "        # Pass the gradient to the next layer\n",
    "        optimiser.out = gradient\n",
    "    \n",
    "        # Step 3: Compute the gradient of the loss with respect to the weights\n",
    "        dW = (d2.T @ self.message_passing_m.T)\n",
    "    \n",
    "        # Compute the change in weights due to weight decay (L2 regularization)\n",
    "        dW_wd = self.weights * optimiser.wd\n",
    "    \n",
    "        # Step 4: Update the weights\n",
    "        self.weights -= (dW + dW_wd) * optimiser.lr\n",
    "\n"
   ],
   "metadata": {
    "collapsed": false,
    "ExecuteTime": {
     "end_time": "2024-03-23T15:46:59.410066Z",
     "start_time": "2024-03-23T15:46:59.404884Z"
    }
   },
   "id": "1b8e8b19008af989",
   "execution_count": 130
  },
  {
   "cell_type": "markdown",
   "source": [
    "# SoftMax Layer\n",
    "\n",
    "The SoftMax Layer hear is designed to be the last layer in the neural network. It normalises the output values down to probabilities with the softmax() function. The softmax function here is implemented has been implemented for a matrix.\n"
   ],
   "metadata": {
    "collapsed": false
   },
   "id": "a1e5941a0b6df938"
  },
  {
   "cell_type": "markdown",
   "source": [
    "## Forward Propagation\n",
    "In the forward propagation step, there is no need for message passing anymore at this layer so it simply multiplies the input with the weights and adds the bias. The output is then passed through the softmax function."
   ],
   "metadata": {
    "collapsed": false
   },
   "id": "1d93a560ff17ac76"
  },
  {
   "cell_type": "markdown",
   "source": [
    "## Back Propagation  \n",
    "As the last layer in the Neural Network, it first differentiates the training from test nodes since all of them are included in one adjacency matrix. This allows the weights and biases to only be changed with respect to the training nodes. The derivative of the loss with respect to the activation is calculated and then multiplied with the weights to get the gradient. The change in weights and biases is then calculated and updated with the learning rate. This follows the same steps as the GCN Layer, while also updating the bias."
   ],
   "metadata": {
    "collapsed": false
   },
   "id": "75e137454aa6f4ce"
  },
  {
   "cell_type": "code",
   "outputs": [],
   "source": [
    "class SoftmaxLayer:\n",
    "    def __init__(self, n_inputs, n_outputs, name):\n",
    "        self.n_inputs = n_inputs\n",
    "        self.n_outputs = n_outputs\n",
    "        self.W = xavier(self.n_outputs, self.n_inputs)\n",
    "        self.bias = np.zeros(shape=(self.n_outputs, 1))\n",
    "        self.name = name\n",
    "        self.input_feature_m = None  # Used to calculate gradients\n",
    "\n",
    "    def softmax(self, input):\n",
    "        s = np.max(input, axis=1)\n",
    "        s = s[:, np.newaxis]  \n",
    "        e_x = np.exp(input - s)\n",
    "        div = np.sum(e_x, axis=1)\n",
    "        div = div[:, np.newaxis]\n",
    "        return e_x / div\n",
    "\n",
    "    def forward(self, input_feature_m, W=None, bias=None):\n",
    "        #Similar to GCN Layer, just without the message passing\n",
    "        self.input_feature_m = input_feature_m.T # (n, f) -> (f, n)\n",
    "        if W is None:\n",
    "            W = self.W\n",
    "        if bias is None:\n",
    "            bias = self.bias\n",
    "\n",
    "        final_layer_out = np.asarray(W @ self.input_feature_m) + bias # (o, f) @ (f, n) = (o, n)\n",
    "        return self.softmax(final_layer_out.T) # (o, n).T = (n, o)\n",
    "    \n",
    "\n",
    "    def backward(self, optimiser: Optimiser):\n",
    "        # Build mask on loss, only use the nodes in training\n",
    "        train_mask = np.zeros(optimiser.y_pred.shape[0])\n",
    "        train_mask[optimiser.train_nodes] = 1\n",
    "        train_mask = train_mask.reshape((-1, 1))\n",
    "\n",
    "        # derivative of loss w.r.t. activation (pre-softmax)\n",
    "        d1 = np.asarray((optimiser.y_pred - optimiser.y_true))\n",
    "        d1 = np.multiply(d1, train_mask) \n",
    "\n",
    "        #Create gradient by multiplying difference with weights\n",
    "        gradient = d1 @ self.W \n",
    "        optimiser.out = gradient\n",
    "\n",
    "        #Calculate change in W matrix and b for the softmax layer\n",
    "        #Change in learnable weights\n",
    "        dW = (d1.T @ self.input_feature_m.T)\n",
    "        #Change in bias\n",
    "        db = d1.T.sum(axis=1, keepdims=True)\n",
    "        #Change due to weight decay, L2 Regularization\n",
    "        dW_wd = self.W * optimiser.wd\n",
    "\n",
    "        # Updating Weights and biases * learning rate\n",
    "        self.W -= (dW + dW_wd) * optimiser.lr\n",
    "        self.bias -= db.reshape(self.bias.shape) * optimiser.lr\n"
   ],
   "metadata": {
    "collapsed": false,
    "ExecuteTime": {
     "end_time": "2024-03-23T15:46:59.419385Z",
     "start_time": "2024-03-23T15:46:59.412330Z"
    }
   },
   "id": "aef3e57f2231684c",
   "execution_count": 131
  },
  {
   "cell_type": "markdown",
   "source": [
    "# Graph Convolution Neural Network\n",
    "\n",
    "The GCN Network is built here with GCN layers and a Softmax layer. The forward method is used to calculate the output of the network and the embedding method is used to calculate the output of the network without the softmax layer. This is useful for visualisation purposes."
   ],
   "metadata": {
    "collapsed": false
   },
   "id": "37da7cf44595ae1e"
  },
  {
   "cell_type": "code",
   "outputs": [],
   "source": [
    "class GCNNetwork:\n",
    "    def __init__(self, n_inputs, n_outputs, hidden_sizes, activation):\n",
    "        self.n_inputs = n_inputs\n",
    "        self.n_outputs = n_outputs\n",
    "        self.n_layers = len(hidden_sizes)\n",
    "        self.hidden_sizes = hidden_sizes\n",
    "        self.activation = activation\n",
    "\n",
    "        self.layers = []\n",
    "        # Input layer\n",
    "        # GCNLayer(n_inputs, n_outputs, activation, name)\n",
    "        gcn_in = GCNLayer(n_inputs, hidden_sizes[0], activation, name='in')\n",
    "        self.layers.append(gcn_in)\n",
    "\n",
    "        # Hidden layers\n",
    "        for layer in range(self.n_layers):\n",
    "            if layer == 0:\n",
    "                gcn = GCNLayer(hidden_sizes[layer], hidden_sizes[layer], activation, name=f'h{layer}')\n",
    "            else:\n",
    "                gcn = GCNLayer(hidden_sizes[layer - 1], hidden_sizes[layer], activation, name=f'h{layer}')\n",
    "            self.layers.append(gcn)\n",
    "\n",
    "        # Output layer\n",
    "        sm_out = SoftmaxLayer(hidden_sizes[-1], n_outputs, name='sm')\n",
    "        self.output_layer = sm_out\n",
    "\n",
    "    def embedding(self, A, H):\n",
    "        # Loop through all GCN layers\n",
    "        layer_output = H\n",
    "        for layer in self.layers:\n",
    "            layer_output = layer.forward(A, layer_output)\n",
    "        return np.asarray(layer_output)\n",
    "\n",
    "    def forward(self, A, H):\n",
    "        # GCN layers\n",
    "        embedding = self.embedding(A, H)\n",
    "        # Softmax\n",
    "        final_output = self.output_layer.forward(embedding)\n",
    "        return embedding, np.asarray(final_output)"
   ],
   "metadata": {
    "collapsed": false,
    "ExecuteTime": {
     "end_time": "2024-03-23T15:46:59.428295Z",
     "start_time": "2024-03-23T15:46:59.420922Z"
    }
   },
   "id": "854e8d23cd49754a",
   "execution_count": 132
  },
  {
   "cell_type": "markdown",
   "source": [
    "# Training"
   ],
   "metadata": {
    "collapsed": false
   },
   "id": "22c1764918bde26d"
  },
  {
   "cell_type": "code",
   "outputs": [],
   "source": [
    "gcn_model = GCNNetwork(\n",
    "    n_inputs=n_nodes,\n",
    "    n_outputs=n_labels,\n",
    "    hidden_sizes=[16, 2],\n",
    "    activation=np.tanh,\n",
    ")"
   ],
   "metadata": {
    "collapsed": false,
    "ExecuteTime": {
     "end_time": "2024-03-23T15:46:59.434731Z",
     "start_time": "2024-03-23T15:46:59.430019Z"
    }
   },
   "id": "b10abb4edbbc9362",
   "execution_count": 133
  },
  {
   "cell_type": "code",
   "outputs": [],
   "source": [
    "np.random.seed(100)\n",
    "# train_nodes = np.random.randint(n_nodes, size=6)\n",
    "train_nodes = np.array([0, 1, 32, 33])\n",
    "test_nodes = np.array([i for i in range(labels.shape[0]) if i not in train_nodes])\n",
    "# Optimiser(learning_rate, weight_decay)\n",
    "opt = Optimiser(2e-2, 2.5e-2, train_nodes)"
   ],
   "metadata": {
    "collapsed": false,
    "ExecuteTime": {
     "end_time": "2024-03-23T15:46:59.441442Z",
     "start_time": "2024-03-23T15:46:59.438711Z"
    }
   },
   "id": "2043072a6ef93e29",
   "execution_count": 134
  },
  {
   "cell_type": "code",
   "outputs": [
    {
     "name": "stdout",
     "output_type": "stream",
     "text": [
      "iter: 1, Train Loss: 0.738, Test Loss: 0.710\n",
      "iter: 101, Train Loss: 0.103, Test Loss: 0.273\n",
      "iter: 201, Train Loss: 0.031, Test Loss: 0.153\n",
      "iter: 301, Train Loss: 0.020, Test Loss: 0.128\n",
      "iter: 401, Train Loss: 0.016, Test Loss: 0.119\n"
     ]
    }
   ],
   "source": [
    "embeddings = []\n",
    "accuracy = []\n",
    "train_losses = []\n",
    "test_losses = []\n",
    "\n",
    "n_iters = 500\n",
    "loss_min = 1e6\n",
    "es_iters = 0\n",
    "es_steps = 50\n",
    "\n",
    "for iter in range(n_iters):\n",
    "\n",
    "    #Forward Propagation\n",
    "    embedding, y_pred = gcn_model.forward(A_hat, H)\n",
    "    embeddings.append(embedding)\n",
    "\n",
    "    opt.y_pred = y_pred\n",
    "    opt.y_true = labels\n",
    "\n",
    "    #Back Propagation\n",
    "    gcn_model.output_layer.backward(opt)\n",
    "    for layer in reversed(gcn_model.layers):\n",
    "        layer.backward(opt)\n",
    "\n",
    "    # Accuracy for non-training nodes\n",
    "    predicted_label = np.argmax(y_pred, axis=1)\n",
    "    actual_label = np.argmax(labels, axis=1)\n",
    "    acc = (predicted_label == actual_label)[test_nodes]\n",
    "    accuracy.append(acc.mean())\n",
    "\n",
    "    #Cross-Entropy Loss Calculation\n",
    "    loss = loss_calc(y_pred, labels)\n",
    "    loss_train = loss[train_nodes].mean()\n",
    "    loss_test = loss[test_nodes].mean()\n",
    "\n",
    "    train_losses.append(loss_train)\n",
    "    test_losses.append(loss_test)\n",
    "\n",
    "    #Checking to see if the model has gone a significant number of iterations without improving\n",
    "    if loss_test < loss_min:\n",
    "        loss_min = loss_test\n",
    "        es_iters = 0\n",
    "    else:\n",
    "        es_iters += 1\n",
    "\n",
    "    if es_iters > es_steps:\n",
    "        print(\"Early stopping!\")\n",
    "        break\n",
    "\n",
    "    if iter % 100 == 0:\n",
    "        print(f\"iter: {iter + 1}, Train Loss: {loss_train:.3f}, Test Loss: {loss_test:.3f}\")\n",
    "\n",
    "train_losses = np.array(train_losses)\n",
    "test_losses = np.array(test_losses)"
   ],
   "metadata": {
    "collapsed": false,
    "ExecuteTime": {
     "end_time": "2024-03-23T15:46:59.496676Z",
     "start_time": "2024-03-23T15:46:59.443270Z"
    }
   },
   "id": "7822095b4c7c389d",
   "execution_count": 135
  },
  {
   "cell_type": "markdown",
   "source": [
    "# Results"
   ],
   "metadata": {
    "collapsed": false
   },
   "id": "a1b8d1b4535f7bfc"
  },
  {
   "cell_type": "code",
   "outputs": [
    {
     "data": {
      "text/plain": "Text(0, 0.5, 'Loss')"
     },
     "execution_count": 136,
     "metadata": {},
     "output_type": "execute_result"
    },
    {
     "data": {
      "text/plain": "<Figure size 640x480 with 1 Axes>",
      "image/png": "[encoded data removed]"
     },
     "metadata": {},
     "output_type": "display_data"
    }
   ],
   "source": [
    "fig, ax = plt.subplots()\n",
    "ax.plot(train_losses, label='Train')\n",
    "ax.plot(test_losses, label='Test')\n",
    "ax.legend()\n",
    "ax.grid()\n",
    "ax.set_xlabel('Iterations')\n",
    "ax.set_ylabel('Loss')"
   ],
   "metadata": {
    "collapsed": false,
    "ExecuteTime": {
     "end_time": "2024-03-23T15:46:59.654996Z",
     "start_time": "2024-03-23T15:46:59.498816Z"
    }
   },
   "id": "a8a9c29c346a65a6",
   "execution_count": 136
  },
  {
   "cell_type": "code",
   "outputs": [
    {
     "name": "stdout",
     "output_type": "stream",
     "text": [
      "Final Accuracy: 0.9666666666666667\n"
     ]
    }
   ],
   "source": [
    "print(\"Final Accuracy:\", accuracy[-1])"
   ],
   "metadata": {
    "collapsed": false,
    "ExecuteTime": {
     "end_time": "2024-03-23T15:46:59.659313Z",
     "start_time": "2024-03-23T15:46:59.656296Z"
    }
   },
   "id": "12746288d80f3df3",
   "execution_count": 137
  },
  {
   "cell_type": "code",
   "outputs": [
    {
     "data": {
      "text/plain": "Text(0, 0.5, 'Accuracy')"
     },
     "execution_count": 138,
     "metadata": {},
     "output_type": "execute_result"
    },
    {
     "data": {
      "text/plain": "<Figure size 640x480 with 1 Axes>",
      "image/png": "[encoded data removed]"
     },
     "metadata": {},
     "output_type": "display_data"
    }
   ],
   "source": [
    "fig, ax = plt.subplots()\n",
    "_ = ax.plot(accuracy, marker='.')\n",
    "ax.grid()\n",
    "_ = ax.set(ylim=[0, 1])\n",
    "ax.set_xlabel('Iterations')\n",
    "ax.set_ylabel('Accuracy')"
   ],
   "metadata": {
    "collapsed": false,
    "ExecuteTime": {
     "end_time": "2024-03-23T15:46:59.749664Z",
     "start_time": "2024-03-23T15:46:59.662109Z"
    }
   },
   "id": "726df7ae8d658168",
   "execution_count": 138
  },
  {
   "cell_type": "code",
   "outputs": [
    {
     "data": {
      "text/plain": "<Figure size 700x700 with 1 Axes>",
      "image/png": "[encoded data removed]"
     },
     "metadata": {},
     "output_type": "display_data"
    }
   ],
   "source": [
    "pos = {i: embeddings[-1][i, :] for i in range(embeddings[-1].shape[0])}\n",
    "draw_graph(G, colouring, pos)"
   ],
   "metadata": {
    "collapsed": false,
    "ExecuteTime": {
     "end_time": "2024-03-23T15:46:59.835402Z",
     "start_time": "2024-03-23T15:46:59.753471Z"
    }
   },
   "id": "e07ef92a8d824ae6",
   "execution_count": 139
  },
  {
   "cell_type": "code",
   "outputs": [
    {
     "name": "stdout",
     "output_type": "stream",
     "text": [
      "[[ 0.89123941  0.79658729]\n",
      " [ 0.81115134  0.71189138]\n",
      " [ 0.57039133  0.47148781]\n",
      " [ 0.78724474  0.6880428 ]\n",
      " [ 0.70703656  0.57442794]\n",
      " [ 0.81260899  0.67530453]\n",
      " [ 0.75329819  0.60169144]\n",
      " [ 0.70482932  0.59975684]\n",
      " [-0.11879152 -0.11059392]\n",
      " [-0.21599746 -0.17972529]\n",
      " [ 0.65893171  0.51596319]\n",
      " [ 0.48034255  0.38626871]\n",
      " [ 0.58459811  0.48779962]\n",
      " [ 0.5993019   0.49418418]\n",
      " [-0.50515196 -0.42267735]\n",
      " [-0.55230679 -0.46754725]\n",
      " [ 0.62770672  0.47314827]\n",
      " [ 0.47782962  0.38751821]\n",
      " [-0.43130786 -0.36126966]\n",
      " [ 0.37869127  0.30019399]\n",
      " [-0.48118165 -0.398187  ]\n",
      " [ 0.5206857   0.42500325]\n",
      " [-0.4979237  -0.41774788]\n",
      " [-0.79519319 -0.70295538]\n",
      " [-0.55126678 -0.45387648]\n",
      " [-0.74087487 -0.63544869]\n",
      " [-0.64664349 -0.55083486]\n",
      " [-0.58749294 -0.49652913]\n",
      " [-0.23308757 -0.19100979]\n",
      " [-0.773947   -0.6834086 ]\n",
      " [-0.29767208 -0.24927858]\n",
      " [-0.64389193 -0.55218853]\n",
      " [-0.88361272 -0.80143675]\n",
      " [-0.88219104 -0.80063328]]\n"
     ]
    }
   ],
   "source": [
    "print(embeddings[-1])"
   ],
   "metadata": {
    "collapsed": false,
    "ExecuteTime": {
     "end_time": "2024-03-23T15:46:59.842577Z",
     "start_time": "2024-03-23T15:46:59.838200Z"
    }
   },
   "id": "59eea0a93bd94408",
   "execution_count": 140
  }
 ],
 "metadata": {
  "kernelspec": {
   "display_name": "Python 3 (ipykernel)",
   "language": "python",
   "name": "python3"
  },
  "language_info": {
   "codemirror_mode": {
    "name": "ipython",
    "version": 3
   },
   "file_extension": ".py",
   "mimetype": "text/x-python",
   "name": "python",
   "nbconvert_exporter": "python",
   "pygments_lexer": "ipython3",
   "version": "3.11.3"
  }
 },
 "nbformat": 4,
 "nbformat_minor": 5
}
